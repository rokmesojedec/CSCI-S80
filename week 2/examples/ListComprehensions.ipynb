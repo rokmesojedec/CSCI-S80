{
 "cells": [
  {
   "cell_type": "markdown",
   "id": "79c1134b",
   "metadata": {},
   "source": [
    "# List Comprehensions\n",
    "\n",
    "## Idea:\n",
    "\n",
    "Very useful, timesaving tool for manipulating lists in python.\n",
    "\n",
    "Code can be shorter and simpler.\n",
    "\n",
    "[]\n",
    "\n",
    "## Use 1: Creating Lists\n",
    "\n",
    "Here we how we can use a list comprehension to quickly get 100 random numbers:"
   ]
  },
  {
   "cell_type": "code",
   "execution_count": 3,
   "id": "b1780334",
   "metadata": {},
   "outputs": [
    {
     "name": "stdout",
     "output_type": "stream",
     "text": [
      "[61, 64, 88, 75, 42, 87, 15, 16, 50, 11, 35, 28, 55, 11, 15, 75, 98, 77, 53, 68, 22, 42, 58, 95, 14, 100, 9, 79, 88, 94, 47, 68, 24, 86, 55, 8, 37, 84, 23, 14, 13, 34, 89, 17, 39, 9, 90, 71, 34, 23, 97, 6, 1, 47, 69, 34, 77, 22, 88, 97, 76, 17, 70, 97, 29, 50, 93, 41, 47, 35, 28, 85, 47, 26, 25, 29, 60, 50, 19, 59, 25, 28, 62, 63, 5, 41, 100, 21, 33, 29, 64, 70, 50, 44, 62, 9, 93, 21, 94, 52]\n",
      "[29, 39, 78, 18, 20, 65, 92, 43, 36, 18, 81, 30, 57, 48, 43, 48, 43, 27, 64, 100, 48, 87, 75, 56, 27, 99, 82, 26, 99, 80, 3, 68, 92, 46, 11, 52, 66, 54, 13, 6, 3, 1, 47, 3, 43, 8, 21, 86, 58, 81, 92, 79, 18, 50, 52, 53, 14, 89, 36, 14, 81, 49, 77, 74, 21, 71, 41, 47, 9, 10, 57, 1, 39, 87, 59, 91, 40, 7, 41, 76, 32, 66, 10, 28, 55, 83, 99, 66, 61, 40, 7, 45, 83, 84, 2, 97, 45, 25, 55, 81]\n"
     ]
    }
   ],
   "source": [
    "import random\n",
    "\n",
    "## Without List Comprehensions we might write:\n",
    "random_numbers = list()\n",
    "\n",
    "for i in range(100):\n",
    "    random_numbers.append(random.randint(1, 100))\n",
    "\n",
    "print(random_numbers)\n",
    "\n",
    "## With Comprehensions we can simplify:\n",
    "more_random_numbers = [random.randint(1,100) for i in range(100)]\n",
    "\n",
    "print(more_random_numbers)"
   ]
  },
  {
   "cell_type": "markdown",
   "id": "a97bf43c",
   "metadata": {},
   "source": [
    "## Use 2: Manipulating Lists:\n",
    "\n",
    "Suppose we want to square all of the random numbers we just calculated above.\n",
    "\n",
    "As before - we'll show it with and without list comprehensions"
   ]
  },
  {
   "cell_type": "code",
   "execution_count": 17,
   "id": "6a3d098b",
   "metadata": {},
   "outputs": [
    {
     "name": "stdout",
     "output_type": "stream",
     "text": [
      "[3721, 4096, 7744, 5625, 1764, 7569, 225, 256, 2500, 121, 1225, 784, 3025, 121, 225, 5625, 9604, 5929, 2809, 4624, 484, 1764, 3364, 9025, 196, 10000, 81, 6241, 7744, 8836, 2209, 4624, 576, 7396, 3025, 64, 1369, 7056, 529, 196, 169, 1156, 7921, 289, 1521, 81, 8100, 5041, 1156, 529, 9409, 36, 1, 2209, 4761, 1156, 5929, 484, 7744, 9409, 5776, 289, 4900, 9409, 841, 2500, 8649, 1681, 2209, 1225, 784, 7225, 2209, 676, 625, 841, 3600, 2500, 361, 3481, 625, 784, 3844, 3969, 25, 1681, 10000, 441, 1089, 841, 4096, 4900, 2500, 1936, 3844, 81, 8649, 441, 8836, 2704]\n",
      "[841, 1521, 6084, 324, 400, 4225, 8464, 1849, 1296, 324, 6561, 900, 3249, 2304, 1849, 2304, 1849, 729, 4096, 10000, 2304, 7569, 5625, 3136, 729, 9801, 6724, 676, 9801, 6400, 9, 4624, 8464, 2116, 121, 2704, 4356, 2916, 169, 36, 9, 1, 2209, 9, 1849, 64, 441, 7396, 3364, 6561, 8464, 6241, 324, 2500, 2704, 2809, 196, 7921, 1296, 196, 6561, 2401, 5929, 5476, 441, 5041, 1681, 2209, 81, 100, 3249, 1, 1521, 7569, 3481, 8281, 1600, 49, 1681, 5776, 1024, 4356, 100, 784, 3025, 6889, 9801, 4356, 3721, 1600, 49, 2025, 6889, 7056, 4, 9409, 2025, 625, 3025, 6561]\n"
     ]
    }
   ],
   "source": [
    "## Without list comp it takes a few lines\n",
    "squared_values = list()\n",
    "\n",
    "for value in random_numbers:\n",
    "    squared_values.append(value**2)\n",
    "print(squared_values)\n",
    "\n",
    "# With list comp it's a single line\n",
    "more_squared_values = [value**2 for value in more_random_numbers]\n",
    "\n",
    "print(more_squared_values)\n",
    "\n",
    "### Note we could also use map() to achieve similar results\n",
    "# even_more_sqaured_values = list(map(lambda x:x**2, more_random_numbers))\n",
    "# print(even_more_sqaured_values)"
   ]
  },
  {
   "cell_type": "markdown",
   "id": "beeaed64",
   "metadata": {},
   "source": [
    "## Filtering Elements:\n",
    "\n",
    "Suppose we are only interested in eve squared numbers\n",
    "\n",
    "We'll test for parity by taking the value mod 2:\n",
    " * 1936 % 2 = 0\n",
    " * 3721 % 2 = 1\n",
    " \n",
    "Applying this filter is easily built into list comprehensions"
   ]
  },
  {
   "cell_type": "code",
   "execution_count": 23,
   "id": "fd8e3bbd",
   "metadata": {},
   "outputs": [
    {
     "name": "stdout",
     "output_type": "stream",
     "text": [
      "[4096, 7744, 1764, 256, 2500, 784, 9604, 4624, 484, 1764, 3364, 196, 10000, 7744, 8836, 4624, 576, 7396, 64, 7056, 196, 1156, 8100, 1156, 36, 1156, 484, 7744, 5776, 4900, 2500, 784, 676, 3600, 2500, 784, 3844, 10000, 4096, 4900, 2500, 1936, 3844, 8836, 2704]\n",
      "[6084, 324, 400, 8464, 1296, 324, 900, 2304, 2304, 4096, 10000, 2304, 3136, 6724, 676, 6400, 4624, 8464, 2116, 2704, 4356, 2916, 36, 64, 7396, 3364, 8464, 324, 2500, 2704, 196, 1296, 196, 5476, 100, 1600, 5776, 1024, 4356, 100, 784, 4356, 1600, 7056, 4]\n"
     ]
    }
   ],
   "source": [
    "## Without List Comp:\n",
    "even_squares = list()\n",
    "\n",
    "for value in squared_values:\n",
    "    if value % 2 == 0:\n",
    "        even_squares.append(value)\n",
    "        \n",
    "print(even_squares)\n",
    "\n",
    "## With List Comp:\n",
    "\n",
    "more_even_squares = [value for value in more_squared_values if value % 2 == 0]\n",
    "\n",
    "print(more_even_squares)"
   ]
  },
  {
   "cell_type": "markdown",
   "id": "39a97db2",
   "metadata": {},
   "source": [
    "## Going Further With Comprehensions\n",
    "\n",
    "We Can do multiple comprehensions at once, like nesting for-looops:"
   ]
  },
  {
   "cell_type": "code",
   "execution_count": 24,
   "id": "6b9e14c1",
   "metadata": {},
   "outputs": [
    {
     "name": "stdout",
     "output_type": "stream",
     "text": [
      "[(0, 0), (0, 1), (0, 2), (0, 3), (0, 4), (1, 0), (1, 1), (1, 2), (1, 3), (1, 4), (2, 0), (2, 1), (2, 2), (2, 3), (2, 4), (3, 0), (3, 1), (3, 2), (3, 3), (3, 4), (4, 0), (4, 1), (4, 2), (4, 3), (4, 4), (5, 0), (5, 1), (5, 2), (5, 3), (5, 4), (6, 0), (6, 1), (6, 2), (6, 3), (6, 4), (7, 0), (7, 1), (7, 2), (7, 3), (7, 4), (8, 0), (8, 1), (8, 2), (8, 3), (8, 4), (9, 0), (9, 1), (9, 2), (9, 3), (9, 4)]\n"
     ]
    }
   ],
   "source": [
    "# Quickly Create a list of number pairs:\n",
    "pairs = [(first_val, second_val) for first_val in range(10) for second_val in range(5)]\n",
    "print(pairs)"
   ]
  },
  {
   "cell_type": "markdown",
   "id": "3bdf67c9",
   "metadata": {},
   "source": [
    "We can manipulate dictionaries in a very similar way as lists:"
   ]
  },
  {
   "cell_type": "code",
   "execution_count": 26,
   "id": "e595a8d7",
   "metadata": {},
   "outputs": [
    {
     "name": "stdout",
     "output_type": "stream",
     "text": [
      "{0: 0, 1: 1, 2: 4, 3: 9, 4: 16, 5: 25, 6: 36, 7: 49, 8: 64, 9: 81}\n"
     ]
    }
   ],
   "source": [
    "# Quickly create a dictionary mapping from each integer in [0,10) to its square value:\n",
    "squares_dict = {i:i**2 for i in range(10)}\n",
    "print(squares_dict)"
   ]
  }
 ],
 "metadata": {
  "kernelspec": {
   "display_name": "Python 3 (ipykernel)",
   "language": "python",
   "name": "python3"
  },
  "language_info": {
   "codemirror_mode": {
    "name": "ipython",
    "version": 3
   },
   "file_extension": ".py",
   "mimetype": "text/x-python",
   "name": "python",
   "nbconvert_exporter": "python",
   "pygments_lexer": "ipython3",
   "version": "3.8.3"
  }
 },
 "nbformat": 4,
 "nbformat_minor": 5
}
