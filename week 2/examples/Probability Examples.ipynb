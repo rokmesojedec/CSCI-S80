{
 "cells": [
  {
   "cell_type": "markdown",
   "id": "67b58f2c",
   "metadata": {},
   "source": [
    "# Example 1:\n",
    "\n",
    "Suppose Numi the Numismatist is flipping coins\n",
    "\n",
    "### Question 1: If Numi Flips the coin twice - what is the probability the result is \"HH\"?\n",
    "\n",
    "### Question 2: If Numi flips the coin 101 times - how many \"HH\" sequence will be in the result?\n",
    " * eg. the \"HTHHHTH\" contains 2 instance of \"HH\"\n",
    "\n",
    "### Question 3: Numi starts flipping a coin and recording results until either a \"HH\" or a \"TH\" appears in the sequence. What is the probability a \"HH\" appears *before* a \"TH\"?"
   ]
  },
  {
   "cell_type": "markdown",
   "id": "978cd074",
   "metadata": {},
   "source": [
    "### Answers: \n",
    "#### Q1: 25%\n",
    "#### Q2: 25%\n",
    "#### Q3: 25%!  \n",
    " * Note that if the initial 2 throws are **not** \"HH\" then \"TH\" is guarunteed to show up first! "
   ]
  },
  {
   "cell_type": "code",
   "execution_count": 29,
   "id": "b35a9b5d",
   "metadata": {},
   "outputs": [
    {
     "name": "stdout",
     "output_type": "stream",
     "text": [
      "Q2 Results:\n",
      "0.2496\n",
      "\n",
      "Q3 Results:\n",
      "HH: 0.258\n",
      "TH: 0.742\n"
     ]
    }
   ],
   "source": [
    "import random\n",
    "\n",
    "def coin_flip():\n",
    "    \"\"\" Returns \"H\" or \"T\" result of pseudorandom coin flip\"\"\"\n",
    "    return \"H\" if random.random()>=.5 else \"T\"\n",
    "\n",
    "\n",
    "######\n",
    "# \n",
    "#     Q2 Demo\n",
    "# \n",
    "######\n",
    "\n",
    "N_FLIPS = 10001\n",
    "\n",
    "sequence = [coin_flip() for _ in range(N_FLIPS)]\n",
    "\n",
    "count = 0\n",
    "\n",
    "# Iterate over all possible susequences\n",
    "for index in range(len(sequence) - 1):\n",
    "    if sequence[index] == sequence[index+1] == \"H\":\n",
    "        count += 1\n",
    "\n",
    "print(\"Q2 Results:\")\n",
    "print(round(count/N_FLIPS, 4))\n",
    "print()\n",
    "\n",
    "\n",
    "\n",
    "######\n",
    "# \n",
    "#     Q3 Demo\n",
    "# \n",
    "######\n",
    "\n",
    "\n",
    "N_TRIALS=1000\n",
    "\n",
    "# Storage for the results of each trial\n",
    "results={\n",
    "    \"HH\":0,\n",
    "    \"TH\":0\n",
    "}\n",
    "\n",
    "# Execute the trials\n",
    "for _ in range(N_TRIALS):\n",
    "    sequence = list()\n",
    "    \n",
    "    # Flip the first two coins\n",
    "    sequence.append(coin_flip())\n",
    "    sequence.append(coin_flip())\n",
    "\n",
    "    # Keep flipping coins until a 'end' sequence is found\n",
    "    while True:\n",
    "        # Check end conditions\n",
    "        if sequence[-1] == sequence[-2] == \"H\":\n",
    "            # print(f\"HH found first: {sequence}\")\n",
    "            results[\"HH\"] += 1\n",
    "            break\n",
    "        elif sequence[-2] == \"T\" and sequence[-1] == \"H\":\n",
    "            # print(f\"TH found first: {sequence}\")\n",
    "            results[\"TH\"] += 1\n",
    "            break\n",
    "        \n",
    "        # Flip next coin\n",
    "        sequence.append(coin_flip())\n",
    "        \n",
    "print(\"Q3 Results:\")\n",
    "[print(f\"{key}: {round(value/N_TRIALS, 4)}\") for key, value in results.items()];"
   ]
  },
  {
   "cell_type": "markdown",
   "id": "b069deae",
   "metadata": {},
   "source": [
    "# Example 2: Choosing Numbers\n",
    "\n",
    "The numbers 1-100 are written on slips of paper and shuffled into ba bag.  \n",
    "\n",
    "We are going to draw numbers from the bag.  \n",
    "\n",
    "#### Question 1: If we draw two numbers from a bag (without replacement), what is the probability the second number is greater than the first?\n"
   ]
  },
  {
   "cell_type": "code",
   "execution_count": 39,
   "id": "fe60c08b",
   "metadata": {},
   "outputs": [
    {
     "name": "stdout",
     "output_type": "stream",
     "text": [
      "0.489\n"
     ]
    }
   ],
   "source": [
    "from random import sample\n",
    "\n",
    "q1_results = list()\n",
    "\n",
    "for _ in range(1000):\n",
    "    # Setup fresh bag of numbers\n",
    "    bag = [i+1 for i in range(100)]\n",
    "    \n",
    "    # Grab two numbers randomly w/out replacement\n",
    "    samples = sample(bag, 2)\n",
    "    \n",
    "    # Check if the second is larger than the first\n",
    "    q1_results.append(samples[1] > samples[0])\n",
    "    \n",
    "print(sum(q1_results)/len(q1_results));"
   ]
  },
  {
   "cell_type": "markdown",
   "id": "67567ff3",
   "metadata": {},
   "source": [
    "As expected - we get ~50%.\n",
    "\n",
    "Now consider drawing three numbers:\n",
    " * Event A: The second number is larger than the first\n",
    " * Event B: The Third number is larger than the second\n",
    " \n",
    "Clearly: \n",
    " * Pr(A) = Pr(B) = .5\n",
    " \n",
    "#### Question 2: What' s the probability of A and B both occuring? Pr(A&B)?"
   ]
  },
  {
   "cell_type": "code",
   "execution_count": 32,
   "id": "c30674d9",
   "metadata": {},
   "outputs": [
    {
     "name": "stdout",
     "output_type": "stream",
     "text": [
      "0.17\n"
     ]
    }
   ],
   "source": [
    "q2_results = list()\n",
    "\n",
    "for _ in range(1000):\n",
    "    # Setup fresh bag of numbers\n",
    "    bag = [i+1 for i in range(100)]\n",
    "    \n",
    "    # Grab three numbers randomly w/out replacement\n",
    "    samples = sample(bag, 3)\n",
    "    \n",
    "    # Check if the second is larger than the first\n",
    "    q2_results.append(samples[2] > samples[1] and samples[1] > samples[0])\n",
    "    \n",
    "print(round(sum(q2_results)/len(q2_results), 2));"
   ]
  },
  {
   "cell_type": "markdown",
   "id": "64aeb68b",
   "metadata": {},
   "source": [
    "Here the answer is 1/6 (roughly .17)\n",
    "\n",
    "We can reason this out as follows:\n",
    "\n",
    "For any set of 3 numbers, call them A, B, C, that we draw, there are 6 possible orders we could draw them in:\n",
    " 1. ABC\n",
    " 2. ACB\n",
    " 3. BAC\n",
    " 4. BCA\n",
    " 5. CAB\n",
    " 6. CBA\n",
    " \n",
    "Exactly 1 of those 6 orderings will satisfy both Events A and B\n",
    "\n",
    "Note that the answer **is not 1/4**.  We might have expected Pr(A&B) = Pr(A) * Pr(B) but that does not work here because events A and B are **dependent**.  In particular, A being true indicates that the second number is probably not very small - which in turn makes it less possible for B to be true.\n",
    "\n",
    "#### Question 3: Now we can solve for Pr(B|A).  That is - given that the second number is larger than the first, what is the probability that the third is also larger than the second.  "
   ]
  },
  {
   "cell_type": "code",
   "execution_count": null,
   "id": "6ab510b5",
   "metadata": {},
   "outputs": [],
   "source": [
    "q3_results = list()\n",
    "\n",
    "for _ in range(1000):\n",
    "    # Setup fresh bag of numbers\n",
    "    bag = [i+1 for i in range(100)]\n",
    "    \n",
    "    # Grab three numbers randomly w/out replacement\n",
    "    samples = sample(bag, 3)\n",
    "    \n",
    "    # Note the logic here to account for the conditional probability!\n",
    "    # First I check the condition:\n",
    "    if not samples[1] > samples[0]:\n",
    "        # If the condition fails - skip this trial\n",
    "        continue\n",
    "        \n",
    "    # Since the condition passed - we can append the result\n",
    "    q3_results.append(samples[2] > samples[1])\n",
    "    \n",
    "    \n",
    "print(round(sum(q3_results)/len(q3_results), 2));"
   ]
  },
  {
   "cell_type": "markdown",
   "id": "f9e69439",
   "metadata": {},
   "source": [
    "Here the answer is 1/3 (roughly .33)\n",
    "\n",
    "NOTE!  Even though we ran 1000 trials in the above code, we 'passed' on about half of them (that did not satisfy event A).  So our results list only has ~500 samples.  \n",
    "\n",
    "We can reason this out as follows:\n",
    "\n",
    "Suppose again the numbers A, B, C are drawn, where A<B<C.  The 6 possible orders are:\n",
    " 1. ABC\n",
    " 2. ACB\n",
    " 3. ~~BAC~~\n",
    " 4. BCA\n",
    " 5. ~~CAB~~\n",
    " 6. ~~CBA~~\n",
    " \n",
    " We can immediately strike-out the 3 cases that do nat satisfy event A.  \n",
    " \n",
    " Of the three remaining cases - just 1 also satisfies event B. Thus Pr(B|A) =1/3"
   ]
  },
  {
   "cell_type": "code",
   "execution_count": null,
   "id": "6ff2d91a",
   "metadata": {},
   "outputs": [],
   "source": []
  }
 ],
 "metadata": {
  "kernelspec": {
   "display_name": "Python 3 (ipykernel)",
   "language": "python",
   "name": "python3"
  },
  "language_info": {
   "codemirror_mode": {
    "name": "ipython",
    "version": 3
   },
   "file_extension": ".py",
   "mimetype": "text/x-python",
   "name": "python",
   "nbconvert_exporter": "python",
   "pygments_lexer": "ipython3",
   "version": "3.8.3"
  }
 },
 "nbformat": 4,
 "nbformat_minor": 5
}
